{
  "nbformat": 4,
  "nbformat_minor": 0,
  "metadata": {
    "colab": {
      "provenance": [],
      "authorship_tag": "ABX9TyMOECvH4B8J/yh8CvejhDf8",
      "include_colab_link": true
    },
    "kernelspec": {
      "name": "python3",
      "display_name": "Python 3"
    },
    "language_info": {
      "name": "python"
    }
  },
  "cells": [
    {
      "cell_type": "markdown",
      "metadata": {
        "id": "view-in-github",
        "colab_type": "text"
      },
      "source": [
        "<a href=\"https://colab.research.google.com/github/mosilix/ml4ms2023-final-team2/blob/main/ML4MS_Final_Project.ipynb\" target=\"_parent\"><img src=\"https://colab.research.google.com/assets/colab-badge.svg\" alt=\"Open In Colab\"/></a>"
      ]
    },
    {
      "cell_type": "markdown",
      "source": [
        "# ML4MS-2023\n",
        "### Team 2 Final Project\n"
      ],
      "metadata": {
        "id": "7Cd7rXgfWb9v"
      }
    },
    {
      "cell_type": "code",
      "source": [],
      "metadata": {
        "id": "KLK6LKmcW9ne"
      },
      "execution_count": null,
      "outputs": []
    }
  ]
}